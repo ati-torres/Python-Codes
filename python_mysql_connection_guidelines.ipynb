{
 "cells": [
  {
   "cell_type": "code",
   "execution_count": 2,
   "metadata": {},
   "outputs": [],
   "source": [
    "## This code is written with the intention to provide a simple connection\n",
    "## of MySQL-Python and usage of SQL magic into jupyter notebook\n",
    "\n",
    "## In order to connect python with MySQL database \n",
    "## the following packages need to be install in the command prompt or jupyter notebook:\n",
    "\n",
    "!pip install ipython-sql # 1) SQL magic functions in jupyter\n",
    "!pip install PyMySQL     # 2) API-MySQL client library\n",
    "!pip install SQLAlchemy  # 3) Create engine needed to connect to the database"
   ]
  },
  {
   "cell_type": "code",
   "execution_count": 10,
   "metadata": {},
   "outputs": [],
   "source": [
    "# Remember the connection string is of the format:\n",
    "# %sql ibm_db_sa://my-username:my-password@my-hostname:my-port/my-db-name\n",
    "# Enter the connection string for your Db2 on Cloud database instance below\n",
    "#%sql ibm_db_sa://\n",
    "\n",
    "# Import sqlalchemy and pymsql\n",
    "import sqlalchemy, pymysql\n",
    "\n",
    "## Create engine using sqlalchemy\n",
    "#Insert user and database information from SQL\n",
    "sqlalchemy.create_engine(\"mysql+pymysql://<username>:<password>@<hostname>:<port>/<database_name>\") \n",
    "\n",
    "# Next message should shows up\n",
    "# \"Engine(\"mysql+pymysql://<username>:***@<hostname>:<port>/<database_name>\")\"\""
   ]
  },
  {
   "cell_type": "code",
   "execution_count": 6,
   "metadata": {},
   "outputs": [],
   "source": [
    "## Load SQL magic functions\n",
    "%load_ext sql"
   ]
  },
  {
   "cell_type": "code",
   "execution_count": 9,
   "metadata": {},
   "outputs": [],
   "source": [
    "## Connect to the MySQL database\n",
    "%sql mysql+pymysql://<username>:<password>@<hostname>:<port>/<database_name>\n",
    "\n",
    "# Next message should shows up\n",
    "# 'Connected: <username>@<database_name>"
   ]
  },
  {
   "cell_type": "code",
   "execution_count": null,
   "metadata": {},
   "outputs": [],
   "source": [
    "# Now we are able to run SQL queries \n",
    "# '%%' it means to use all jupyter cell\n",
    "\n",
    "# Get information of tables in <database_name>\n",
    "%%sql SELECT * FROM information_schema.tables \n",
    "                WHERE table_schema =<database_name>;"
   ]
  },
  {
   "cell_type": "code",
   "execution_count": null,
   "metadata": {},
   "outputs": [],
   "source": [
    "# '%' it means to use all jupyter cell\n",
    "# '\\' it means jump next line\n",
    "\n",
    "# Query to retrieve all column names in the <table_name> table along with their  columns description\n",
    "%sql SELECT * FROM information_schema.columns \\\n",
    "                WHERE table_schema = <database_name> and table_name = <table_name>;"
   ]
  },
  {
   "cell_type": "code",
   "execution_count": null,
   "metadata": {},
   "outputs": [],
   "source": [
    "# We can also import pandas and save queries into variables and DataFrames\n",
    "import pandas as pd\n",
    "\n",
    "output=%sql SELECT * FROM <table_name>;\n",
    "df=outout.DataFrame()\n",
    "df.head()\n"
   ]
  }
 ],
 "metadata": {
  "kernelspec": {
   "display_name": "Python 3",
   "language": "python",
   "name": "python3"
  },
  "language_info": {
   "codemirror_mode": {
    "name": "ipython",
    "version": 3
   },
   "file_extension": ".py",
   "mimetype": "text/x-python",
   "name": "python",
   "nbconvert_exporter": "python",
   "pygments_lexer": "ipython3",
   "version": "3.7.4"
  }
 },
 "nbformat": 4,
 "nbformat_minor": 2
}
